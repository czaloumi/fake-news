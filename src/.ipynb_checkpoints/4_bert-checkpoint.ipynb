{
 "cells": [
  {
   "cell_type": "code",
   "execution_count": 2,
   "metadata": {},
   "outputs": [],
   "source": [
    "import numpy as np\n",
    "import pandas as pd\n",
    "import matplotlib.pyplot as plt\n",
    "plt.style.use('seaborn')\n",
    "from matplotlib import rcParams\n",
    "rcParams['font.size'] = 14\n",
    "rcParams['legend.fontsize'] = 'small'\n",
    "rcParams['figure.titlesize'] = 'large'\n",
    "\n",
    "from sklearn.model_selection import train_test_split, cross_validate\n",
    "from sklearn.metrics import confusion_matrix\n",
    "import pickle\n",
    "from pipeline import *"
   ]
  },
  {
   "cell_type": "code",
   "execution_count": 3,
   "metadata": {},
   "outputs": [
    {
     "data": {
      "text/html": [
       "<div>\n",
       "<style scoped>\n",
       "    .dataframe tbody tr th:only-of-type {\n",
       "        vertical-align: middle;\n",
       "    }\n",
       "\n",
       "    .dataframe tbody tr th {\n",
       "        vertical-align: top;\n",
       "    }\n",
       "\n",
       "    .dataframe thead th {\n",
       "        text-align: right;\n",
       "    }\n",
       "</style>\n",
       "<table border=\"1\" class=\"dataframe\">\n",
       "  <thead>\n",
       "    <tr style=\"text-align: right;\">\n",
       "      <th></th>\n",
       "      <th>Labels</th>\n",
       "      <th>Text</th>\n",
       "      <th>Text_Tag</th>\n",
       "    </tr>\n",
       "  </thead>\n",
       "  <tbody>\n",
       "    <tr>\n",
       "      <th>0</th>\n",
       "      <td>1</td>\n",
       "      <td>Says the Annies List political group supports ...</td>\n",
       "      <td>abortion</td>\n",
       "    </tr>\n",
       "    <tr>\n",
       "      <th>1</th>\n",
       "      <td>2</td>\n",
       "      <td>When did the decline of coal start? It started...</td>\n",
       "      <td>energy,history,job-accomplishments</td>\n",
       "    </tr>\n",
       "    <tr>\n",
       "      <th>2</th>\n",
       "      <td>3</td>\n",
       "      <td>Hillary Clinton agrees with John McCain \"by vo...</td>\n",
       "      <td>foreign-policy</td>\n",
       "    </tr>\n",
       "    <tr>\n",
       "      <th>3</th>\n",
       "      <td>1</td>\n",
       "      <td>Health care reform legislation is likely to ma...</td>\n",
       "      <td>health-care</td>\n",
       "    </tr>\n",
       "    <tr>\n",
       "      <th>4</th>\n",
       "      <td>2</td>\n",
       "      <td>The economic turnaround started at the end of ...</td>\n",
       "      <td>economy,jobs</td>\n",
       "    </tr>\n",
       "  </tbody>\n",
       "</table>\n",
       "</div>"
      ],
      "text/plain": [
       "   Labels                                               Text  \\\n",
       "0       1  Says the Annies List political group supports ...   \n",
       "1       2  When did the decline of coal start? It started...   \n",
       "2       3  Hillary Clinton agrees with John McCain \"by vo...   \n",
       "3       1  Health care reform legislation is likely to ma...   \n",
       "4       2  The economic turnaround started at the end of ...   \n",
       "\n",
       "                             Text_Tag  \n",
       "0                            abortion  \n",
       "1  energy,history,job-accomplishments  \n",
       "2                      foreign-policy  \n",
       "3                         health-care  \n",
       "4                        economy,jobs  "
      ]
     },
     "execution_count": 3,
     "metadata": {},
     "output_type": "execute_result"
    }
   ],
   "source": [
    "df = pd.read_csv('../data/train.csv')\n",
    "df.head()"
   ]
  },
  {
   "cell_type": "code",
   "execution_count": 4,
   "metadata": {},
   "outputs": [
    {
     "data": {
      "text/plain": [
       "array([0, 1, 2, 3, 4, 5])"
      ]
     },
     "execution_count": 4,
     "metadata": {},
     "output_type": "execute_result"
    }
   ],
   "source": [
    "y = df.pop('Labels')\n",
    "np.unique(y)\n",
    "# 0: Barely-True\n",
    "# 1: False\n",
    "# 2: Half-True \n",
    "# 3: Mostly-True \n",
    "# 4: Not-Known \n",
    "# 5: True "
   ]
  },
  {
   "cell_type": "code",
   "execution_count": 6,
   "metadata": {},
   "outputs": [
    {
     "name": "stdout",
     "output_type": "stream",
     "text": [
      "Lowercase:\n",
      "['says the annies list political group supports third-trimester abortions on demand.']\n",
      "\n",
      "Punctuation Removed:\n",
      "['says the annies list political group supports thirdtrimester abortions on demand']\n",
      "\n",
      "Stopwords Removed:\n",
      "['says annies list political group supports thirdtrimester abortions demand']\n",
      "\n",
      "Accents Removed:\n",
      "['says annies list political group supports thirdtrimester abortions demand']\n",
      "\n",
      "Tokenized:\n",
      "[['says', 'annies', 'list', 'political', 'group', 'supports', 'thirdtrimester', 'abortions', 'demand']]\n",
      "\n",
      "Lemmatized:\n",
      "['say annies list political group support thirdtrimester abortion demand']\n"
     ]
    }
   ],
   "source": [
    "X = df['Text'].tolist()\n",
    "docs_lem = cleaning_pipeline(X)"
   ]
  },
  {
   "cell_type": "markdown",
   "metadata": {},
   "source": [
    "## https://github.com/DatoJanez/electra-ka\n",
    "\n",
    "```python\n",
    "from transformers import ElectraTokenizerFast\n",
    "model = ElectraForSequenceClassification.from_pretrained(\"./electra-ka-fake-news-tagging\")\n",
    "tokenizer = ElectraTokenizerFast.from_pretrained(\"./electra-ka-fake-news-tagging/\")\n",
    "\n",
    "inputs = tokenizer(\"your text goes here...\", return_tensors=\"pt\")\n",
    "predictions = model(**inputs)\n",
    "```"
   ]
  },
  {
   "cell_type": "code",
   "execution_count": 7,
   "metadata": {},
   "outputs": [],
   "source": [
    "from transformers import AutoTokenizer, AutoModelForSequenceClassification\n",
    "\n",
    "tokenizer = AutoTokenizer.from_pretrained(\"../../jnz/electra-ka-fake-news-tagging\")\n",
    "\n",
    "model = AutoModelForSequenceClassification.from_pretrained(\"../../jnz/electra-ka-fake-news-tagging\")"
   ]
  },
  {
   "cell_type": "code",
   "execution_count": 24,
   "metadata": {},
   "outputs": [
    {
     "data": {
      "text/plain": [
       "('say annies list political group support thirdtrimester abortion demand', 1)"
      ]
     },
     "execution_count": 24,
     "metadata": {},
     "output_type": "execute_result"
    }
   ],
   "source": [
    "docs_lem[0], y[0]"
   ]
  },
  {
   "cell_type": "code",
   "execution_count": 47,
   "metadata": {},
   "outputs": [
    {
     "name": "stdout",
     "output_type": "stream",
     "text": [
      "say annies list political group support thirdtrimester abortion demand: 1\n",
      "4: -5.9652419090271\n",
      "5: -1.4457597732543945\n",
      "3: -0.8072352409362793\n",
      "1: -0.4224981367588043\n",
      "2: -0.3576163053512573\n",
      "0: 3.331812620162964\n",
      "\n",
      "\n",
      "decline coal start started natural gas took started begin president george w bush administration: 2\n",
      "4: -4.058540344238281\n",
      "5: -1.1565181016921997\n",
      "3: -0.3797895610332489\n",
      "1: -0.16735374927520752\n",
      "2: 0.1972362995147705\n",
      "0: 1.749159574508667\n",
      "\n",
      "\n",
      "hillary clinton agrees john mccain voting give george bush benefit doubt iran: 3\n",
      "5: -2.460890054702759\n",
      "4: -1.6862925291061401\n",
      "0: -0.8812388777732849\n",
      "3: 0.17314687371253967\n",
      "2: 0.9701154232025146\n",
      "1: 1.9799727201461792\n",
      "\n",
      "\n",
      "health care reform legislation likely mandate free sex change surgery: 1\n",
      "4: -5.374716281890869\n",
      "5: -1.8953756093978882\n",
      "3: -1.09137761592865\n",
      "1: -0.2838018238544464\n",
      "2: 0.33338311314582825\n",
      "0: 3.0865705013275146\n",
      "\n",
      "\n",
      "economic turnaround started end term: 2\n",
      "4: -3.358527183532715\n",
      "5: -1.8341586589813232\n",
      "3: -0.7119676470756531\n",
      "1: 0.28294309973716736\n",
      "2: 1.1548259258270264\n",
      "0: 1.2285091876983643\n",
      "\n",
      "\n",
      "chicago bear starting quarterback last 10 year total number tenured uw faculty fired last two decade: 5\n",
      "4: -2.5742361545562744\n",
      "5: -1.5271724462509155\n",
      "0: -0.34169116616249084\n",
      "1: 0.27487412095069885\n",
      "3: 0.9212706685066223\n",
      "2: 0.9752655029296875\n",
      "\n",
      "\n",
      "jim dunnam lived district represents year: 0\n",
      "4: -6.576414585113525\n",
      "5: -2.9869673252105713\n",
      "3: -1.5867916345596313\n",
      "1: 0.044959500432014465\n",
      "2: 0.7052649855613708\n",
      "0: 3.899686574935913\n",
      "\n",
      "\n",
      "im person stage worked actively last year passing along rus feingold toughest ethic reform since watergate: 2\n",
      "4: -3.2404654026031494\n",
      "5: -0.8889258503913879\n",
      "1: -0.17976835370063782\n",
      "3: 0.18579649925231934\n",
      "2: 0.3654976487159729\n",
      "0: 0.825944185256958\n",
      "\n",
      "\n",
      "however took 195 million oregon lottery fund port newport eventually land new noaa marine operation centerpacific: 2\n",
      "4: -4.678231716156006\n",
      "5: -1.035406231880188\n",
      "1: -0.5961248278617859\n",
      "3: -0.437190443277359\n",
      "2: 0.03520217537879944\n",
      "0: 2.3129661083221436\n",
      "\n",
      "\n",
      "say gop primary opponent glenn grothman joe leibham cast compromise vote cost 788 million higher electricity cost: 3\n",
      "4: -3.611374616622925\n",
      "5: -2.0553951263427734\n",
      "3: -0.8182679414749146\n",
      "1: 0.14511999487876892\n",
      "2: 1.4238396883010864\n",
      "0: 1.432319164276123\n",
      "\n",
      "\n"
     ]
    }
   ],
   "source": [
    "to_predict = docs_lem[:10]\n",
    "\n",
    "for i, row in enumerate(to_predict):\n",
    "    print(f'{row}: {y[i]}')\n",
    "    inputs = tokenizer(row, return_tensors='pt')\n",
    "    predict = model(**inputs)\n",
    "    for i in range(len(np.unique(y))):\n",
    "        predictions = predict[0].tolist()[0]\n",
    "        level = np.argsort(predict[0].tolist()[0])[i]\n",
    "        print(f'{level}: {predictions[level]}')\n",
    "    print('\\n')"
   ]
  },
  {
   "cell_type": "code",
   "execution_count": null,
   "metadata": {},
   "outputs": [],
   "source": []
  }
 ],
 "metadata": {
  "kernelspec": {
   "display_name": "Python 3",
   "language": "python",
   "name": "python3"
  },
  "language_info": {
   "codemirror_mode": {
    "name": "ipython",
    "version": 3
   },
   "file_extension": ".py",
   "mimetype": "text/x-python",
   "name": "python",
   "nbconvert_exporter": "python",
   "pygments_lexer": "ipython3",
   "version": "3.8.3"
  }
 },
 "nbformat": 4,
 "nbformat_minor": 4
}
